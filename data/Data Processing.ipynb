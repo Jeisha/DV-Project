{
 "cells": [
  {
   "cell_type": "markdown",
   "id": "c737fc92",
   "metadata": {
    "heading_collapsed": true
   },
   "source": [
    "# Import Libraries "
   ]
  },
  {
   "cell_type": "code",
   "execution_count": 34,
   "id": "ba1bf5d4",
   "metadata": {
    "hidden": true
   },
   "outputs": [],
   "source": [
    "import pandas as pd\n",
    "import matplotlib.pyplot as plt\n",
    "import seaborn as sns\n",
    "import datetime\n",
    "import csv"
   ]
  },
  {
   "cell_type": "markdown",
   "id": "440c111e",
   "metadata": {
    "heading_collapsed": true
   },
   "source": [
    "# Import Dataset from MOH Github Page"
   ]
  },
  {
   "cell_type": "code",
   "execution_count": 2,
   "id": "a39d88d6",
   "metadata": {
    "hidden": true
   },
   "outputs": [],
   "source": [
    "cases_by_death = pd.read_csv('https://raw.githubusercontent.com/MoH-Malaysia/covid19-public/main/epidemic/deaths_state.csv')\n",
    "cases_by_vaccination = pd.read_csv('https://raw.githubusercontent.com/MoH-Malaysia/covid19-public/main/vaccination/vax_state.csv')"
   ]
  },
  {
   "cell_type": "markdown",
   "id": "e7420d2c",
   "metadata": {
    "heading_collapsed": true
   },
   "source": [
    "# Explore the Dataset"
   ]
  },
  {
   "cell_type": "markdown",
   "id": "9385eaab",
   "metadata": {
    "heading_collapsed": true,
    "hidden": true
   },
   "source": [
    "## Get the First 5 Row of Each Dataset"
   ]
  },
  {
   "cell_type": "code",
   "execution_count": 3,
   "id": "b8531527",
   "metadata": {
    "hidden": true
   },
   "outputs": [
    {
     "data": {
      "text/html": [
       "<div>\n",
       "<style scoped>\n",
       "    .dataframe tbody tr th:only-of-type {\n",
       "        vertical-align: middle;\n",
       "    }\n",
       "\n",
       "    .dataframe tbody tr th {\n",
       "        vertical-align: top;\n",
       "    }\n",
       "\n",
       "    .dataframe thead th {\n",
       "        text-align: right;\n",
       "    }\n",
       "</style>\n",
       "<table border=\"1\" class=\"dataframe\">\n",
       "  <thead>\n",
       "    <tr style=\"text-align: right;\">\n",
       "      <th></th>\n",
       "      <th>date</th>\n",
       "      <th>state</th>\n",
       "      <th>deaths_new</th>\n",
       "      <th>deaths_bid</th>\n",
       "      <th>deaths_new_dod</th>\n",
       "      <th>deaths_bid_dod</th>\n",
       "      <th>deaths_unvax</th>\n",
       "      <th>deaths_pvax</th>\n",
       "      <th>deaths_fvax</th>\n",
       "      <th>deaths_boost</th>\n",
       "      <th>deaths_tat</th>\n",
       "    </tr>\n",
       "  </thead>\n",
       "  <tbody>\n",
       "    <tr>\n",
       "      <th>0</th>\n",
       "      <td>2020-03-17</td>\n",
       "      <td>Johor</td>\n",
       "      <td>1</td>\n",
       "      <td>0</td>\n",
       "      <td>1</td>\n",
       "      <td>0</td>\n",
       "      <td>1</td>\n",
       "      <td>0</td>\n",
       "      <td>0</td>\n",
       "      <td>0</td>\n",
       "      <td>0</td>\n",
       "    </tr>\n",
       "    <tr>\n",
       "      <th>1</th>\n",
       "      <td>2020-03-17</td>\n",
       "      <td>Kedah</td>\n",
       "      <td>0</td>\n",
       "      <td>0</td>\n",
       "      <td>0</td>\n",
       "      <td>0</td>\n",
       "      <td>0</td>\n",
       "      <td>0</td>\n",
       "      <td>0</td>\n",
       "      <td>0</td>\n",
       "      <td>0</td>\n",
       "    </tr>\n",
       "    <tr>\n",
       "      <th>2</th>\n",
       "      <td>2020-03-17</td>\n",
       "      <td>Kelantan</td>\n",
       "      <td>0</td>\n",
       "      <td>0</td>\n",
       "      <td>0</td>\n",
       "      <td>0</td>\n",
       "      <td>0</td>\n",
       "      <td>0</td>\n",
       "      <td>0</td>\n",
       "      <td>0</td>\n",
       "      <td>0</td>\n",
       "    </tr>\n",
       "    <tr>\n",
       "      <th>3</th>\n",
       "      <td>2020-03-17</td>\n",
       "      <td>Melaka</td>\n",
       "      <td>0</td>\n",
       "      <td>0</td>\n",
       "      <td>0</td>\n",
       "      <td>0</td>\n",
       "      <td>0</td>\n",
       "      <td>0</td>\n",
       "      <td>0</td>\n",
       "      <td>0</td>\n",
       "      <td>0</td>\n",
       "    </tr>\n",
       "    <tr>\n",
       "      <th>4</th>\n",
       "      <td>2020-03-17</td>\n",
       "      <td>Negeri Sembilan</td>\n",
       "      <td>0</td>\n",
       "      <td>0</td>\n",
       "      <td>0</td>\n",
       "      <td>0</td>\n",
       "      <td>0</td>\n",
       "      <td>0</td>\n",
       "      <td>0</td>\n",
       "      <td>0</td>\n",
       "      <td>0</td>\n",
       "    </tr>\n",
       "  </tbody>\n",
       "</table>\n",
       "</div>"
      ],
      "text/plain": [
       "         date            state  deaths_new  deaths_bid  deaths_new_dod  \\\n",
       "0  2020-03-17            Johor           1           0               1   \n",
       "1  2020-03-17            Kedah           0           0               0   \n",
       "2  2020-03-17         Kelantan           0           0               0   \n",
       "3  2020-03-17           Melaka           0           0               0   \n",
       "4  2020-03-17  Negeri Sembilan           0           0               0   \n",
       "\n",
       "   deaths_bid_dod  deaths_unvax  deaths_pvax  deaths_fvax  deaths_boost  \\\n",
       "0               0             1            0            0             0   \n",
       "1               0             0            0            0             0   \n",
       "2               0             0            0            0             0   \n",
       "3               0             0            0            0             0   \n",
       "4               0             0            0            0             0   \n",
       "\n",
       "   deaths_tat  \n",
       "0           0  \n",
       "1           0  \n",
       "2           0  \n",
       "3           0  \n",
       "4           0  "
      ]
     },
     "execution_count": 3,
     "metadata": {},
     "output_type": "execute_result"
    }
   ],
   "source": [
    "cases_by_death.head()"
   ]
  },
  {
   "cell_type": "code",
   "execution_count": 4,
   "id": "157876b5",
   "metadata": {
    "hidden": true
   },
   "outputs": [
    {
     "data": {
      "text/html": [
       "<div>\n",
       "<style scoped>\n",
       "    .dataframe tbody tr th:only-of-type {\n",
       "        vertical-align: middle;\n",
       "    }\n",
       "\n",
       "    .dataframe tbody tr th {\n",
       "        vertical-align: top;\n",
       "    }\n",
       "\n",
       "    .dataframe thead th {\n",
       "        text-align: right;\n",
       "    }\n",
       "</style>\n",
       "<table border=\"1\" class=\"dataframe\">\n",
       "  <thead>\n",
       "    <tr style=\"text-align: right;\">\n",
       "      <th></th>\n",
       "      <th>date</th>\n",
       "      <th>state</th>\n",
       "      <th>daily_partial</th>\n",
       "      <th>daily_full</th>\n",
       "      <th>daily_booster</th>\n",
       "      <th>daily_booster2</th>\n",
       "      <th>daily</th>\n",
       "      <th>daily_partial_adol</th>\n",
       "      <th>daily_full_adol</th>\n",
       "      <th>daily_booster_adol</th>\n",
       "      <th>...</th>\n",
       "      <th>sinopharm2</th>\n",
       "      <th>sinopharm3</th>\n",
       "      <th>sinopharm4</th>\n",
       "      <th>cansino</th>\n",
       "      <th>cansino3</th>\n",
       "      <th>cansino4</th>\n",
       "      <th>pending1</th>\n",
       "      <th>pending2</th>\n",
       "      <th>pending3</th>\n",
       "      <th>pending4</th>\n",
       "    </tr>\n",
       "  </thead>\n",
       "  <tbody>\n",
       "    <tr>\n",
       "      <th>0</th>\n",
       "      <td>2021-02-24</td>\n",
       "      <td>Johor</td>\n",
       "      <td>1</td>\n",
       "      <td>0</td>\n",
       "      <td>0</td>\n",
       "      <td>0</td>\n",
       "      <td>1</td>\n",
       "      <td>0</td>\n",
       "      <td>0</td>\n",
       "      <td>0</td>\n",
       "      <td>...</td>\n",
       "      <td>0</td>\n",
       "      <td>0</td>\n",
       "      <td>0</td>\n",
       "      <td>0</td>\n",
       "      <td>0</td>\n",
       "      <td>0</td>\n",
       "      <td>0</td>\n",
       "      <td>0</td>\n",
       "      <td>0</td>\n",
       "      <td>0</td>\n",
       "    </tr>\n",
       "    <tr>\n",
       "      <th>1</th>\n",
       "      <td>2021-02-24</td>\n",
       "      <td>Kedah</td>\n",
       "      <td>0</td>\n",
       "      <td>0</td>\n",
       "      <td>0</td>\n",
       "      <td>0</td>\n",
       "      <td>0</td>\n",
       "      <td>0</td>\n",
       "      <td>0</td>\n",
       "      <td>0</td>\n",
       "      <td>...</td>\n",
       "      <td>0</td>\n",
       "      <td>0</td>\n",
       "      <td>0</td>\n",
       "      <td>0</td>\n",
       "      <td>0</td>\n",
       "      <td>0</td>\n",
       "      <td>0</td>\n",
       "      <td>0</td>\n",
       "      <td>0</td>\n",
       "      <td>0</td>\n",
       "    </tr>\n",
       "    <tr>\n",
       "      <th>2</th>\n",
       "      <td>2021-02-24</td>\n",
       "      <td>Kelantan</td>\n",
       "      <td>0</td>\n",
       "      <td>0</td>\n",
       "      <td>0</td>\n",
       "      <td>0</td>\n",
       "      <td>0</td>\n",
       "      <td>0</td>\n",
       "      <td>0</td>\n",
       "      <td>0</td>\n",
       "      <td>...</td>\n",
       "      <td>0</td>\n",
       "      <td>0</td>\n",
       "      <td>0</td>\n",
       "      <td>0</td>\n",
       "      <td>0</td>\n",
       "      <td>0</td>\n",
       "      <td>0</td>\n",
       "      <td>0</td>\n",
       "      <td>0</td>\n",
       "      <td>0</td>\n",
       "    </tr>\n",
       "    <tr>\n",
       "      <th>3</th>\n",
       "      <td>2021-02-24</td>\n",
       "      <td>Melaka</td>\n",
       "      <td>0</td>\n",
       "      <td>0</td>\n",
       "      <td>0</td>\n",
       "      <td>0</td>\n",
       "      <td>0</td>\n",
       "      <td>0</td>\n",
       "      <td>0</td>\n",
       "      <td>0</td>\n",
       "      <td>...</td>\n",
       "      <td>0</td>\n",
       "      <td>0</td>\n",
       "      <td>0</td>\n",
       "      <td>0</td>\n",
       "      <td>0</td>\n",
       "      <td>0</td>\n",
       "      <td>0</td>\n",
       "      <td>0</td>\n",
       "      <td>0</td>\n",
       "      <td>0</td>\n",
       "    </tr>\n",
       "    <tr>\n",
       "      <th>4</th>\n",
       "      <td>2021-02-24</td>\n",
       "      <td>Negeri Sembilan</td>\n",
       "      <td>0</td>\n",
       "      <td>0</td>\n",
       "      <td>0</td>\n",
       "      <td>0</td>\n",
       "      <td>0</td>\n",
       "      <td>0</td>\n",
       "      <td>0</td>\n",
       "      <td>0</td>\n",
       "      <td>...</td>\n",
       "      <td>0</td>\n",
       "      <td>0</td>\n",
       "      <td>0</td>\n",
       "      <td>0</td>\n",
       "      <td>0</td>\n",
       "      <td>0</td>\n",
       "      <td>0</td>\n",
       "      <td>0</td>\n",
       "      <td>0</td>\n",
       "      <td>0</td>\n",
       "    </tr>\n",
       "  </tbody>\n",
       "</table>\n",
       "<p>5 rows × 51 columns</p>\n",
       "</div>"
      ],
      "text/plain": [
       "         date            state  daily_partial  daily_full  daily_booster  \\\n",
       "0  2021-02-24            Johor              1           0              0   \n",
       "1  2021-02-24            Kedah              0           0              0   \n",
       "2  2021-02-24         Kelantan              0           0              0   \n",
       "3  2021-02-24           Melaka              0           0              0   \n",
       "4  2021-02-24  Negeri Sembilan              0           0              0   \n",
       "\n",
       "   daily_booster2  daily  daily_partial_adol  daily_full_adol  \\\n",
       "0               0      1                   0                0   \n",
       "1               0      0                   0                0   \n",
       "2               0      0                   0                0   \n",
       "3               0      0                   0                0   \n",
       "4               0      0                   0                0   \n",
       "\n",
       "   daily_booster_adol  ...  sinopharm2  sinopharm3  sinopharm4  cansino  \\\n",
       "0                   0  ...           0           0           0        0   \n",
       "1                   0  ...           0           0           0        0   \n",
       "2                   0  ...           0           0           0        0   \n",
       "3                   0  ...           0           0           0        0   \n",
       "4                   0  ...           0           0           0        0   \n",
       "\n",
       "   cansino3  cansino4  pending1  pending2  pending3  pending4  \n",
       "0         0         0         0         0         0         0  \n",
       "1         0         0         0         0         0         0  \n",
       "2         0         0         0         0         0         0  \n",
       "3         0         0         0         0         0         0  \n",
       "4         0         0         0         0         0         0  \n",
       "\n",
       "[5 rows x 51 columns]"
      ]
     },
     "execution_count": 4,
     "metadata": {},
     "output_type": "execute_result"
    }
   ],
   "source": [
    "cases_by_vaccination.head()"
   ]
  },
  {
   "cell_type": "markdown",
   "id": "fd6c430d",
   "metadata": {
    "hidden": true
   },
   "source": [
    "## Get Dataset Information "
   ]
  },
  {
   "cell_type": "code",
   "execution_count": 5,
   "id": "cf26b9e2",
   "metadata": {
    "hidden": true
   },
   "outputs": [
    {
     "name": "stdout",
     "output_type": "stream",
     "text": [
      "<class 'pandas.core.frame.DataFrame'>\n",
      "RangeIndex: 13552 entries, 0 to 13551\n",
      "Data columns (total 11 columns):\n",
      " #   Column          Non-Null Count  Dtype \n",
      "---  ------          --------------  ----- \n",
      " 0   date            13552 non-null  object\n",
      " 1   state           13552 non-null  object\n",
      " 2   deaths_new      13552 non-null  int64 \n",
      " 3   deaths_bid      13552 non-null  int64 \n",
      " 4   deaths_new_dod  13552 non-null  int64 \n",
      " 5   deaths_bid_dod  13552 non-null  int64 \n",
      " 6   deaths_unvax    13552 non-null  int64 \n",
      " 7   deaths_pvax     13552 non-null  int64 \n",
      " 8   deaths_fvax     13552 non-null  int64 \n",
      " 9   deaths_boost    13552 non-null  int64 \n",
      " 10  deaths_tat      13552 non-null  int64 \n",
      "dtypes: int64(9), object(2)\n",
      "memory usage: 1.1+ MB\n"
     ]
    }
   ],
   "source": [
    "cases_by_death.info()"
   ]
  },
  {
   "cell_type": "code",
   "execution_count": 6,
   "id": "ce063e08",
   "metadata": {
    "hidden": true
   },
   "outputs": [
    {
     "name": "stdout",
     "output_type": "stream",
     "text": [
      "<class 'pandas.core.frame.DataFrame'>\n",
      "RangeIndex: 8048 entries, 0 to 8047\n",
      "Data columns (total 51 columns):\n",
      " #   Column                Non-Null Count  Dtype \n",
      "---  ------                --------------  ----- \n",
      " 0   date                  8048 non-null   object\n",
      " 1   state                 8048 non-null   object\n",
      " 2   daily_partial         8048 non-null   int64 \n",
      " 3   daily_full            8048 non-null   int64 \n",
      " 4   daily_booster         8048 non-null   int64 \n",
      " 5   daily_booster2        8048 non-null   int64 \n",
      " 6   daily                 8048 non-null   int64 \n",
      " 7   daily_partial_adol    8048 non-null   int64 \n",
      " 8   daily_full_adol       8048 non-null   int64 \n",
      " 9   daily_booster_adol    8048 non-null   int64 \n",
      " 10  daily_booster2_adol   8048 non-null   int64 \n",
      " 11  daily_partial_child   8048 non-null   int64 \n",
      " 12  daily_full_child      8048 non-null   int64 \n",
      " 13  daily_booster_child   8048 non-null   int64 \n",
      " 14  daily_booster2_child  8048 non-null   int64 \n",
      " 15  cumul_partial         8048 non-null   int64 \n",
      " 16  cumul_full            8048 non-null   int64 \n",
      " 17  cumul_booster         8048 non-null   int64 \n",
      " 18  cumul_booster2        8048 non-null   int64 \n",
      " 19  cumul                 8048 non-null   int64 \n",
      " 20  cumul_partial_adol    8048 non-null   int64 \n",
      " 21  cumul_full_adol       8048 non-null   int64 \n",
      " 22  cumul_booster_adol    8048 non-null   int64 \n",
      " 23  cumul_booster2_adol   8048 non-null   int64 \n",
      " 24  cumul_partial_child   8048 non-null   int64 \n",
      " 25  cumul_full_child      8048 non-null   int64 \n",
      " 26  cumul_booster_child   8048 non-null   int64 \n",
      " 27  cumul_booster2_child  8048 non-null   int64 \n",
      " 28  pfizer1               8048 non-null   int64 \n",
      " 29  pfizer2               8048 non-null   int64 \n",
      " 30  pfizer3               8048 non-null   int64 \n",
      " 31  pfizer4               8048 non-null   int64 \n",
      " 32  sinovac1              8048 non-null   int64 \n",
      " 33  sinovac2              8048 non-null   int64 \n",
      " 34  sinovac3              8048 non-null   int64 \n",
      " 35  sinovac4              8048 non-null   int64 \n",
      " 36  astra1                8048 non-null   int64 \n",
      " 37  astra2                8048 non-null   int64 \n",
      " 38  astra3                8048 non-null   int64 \n",
      " 39  astra4                8048 non-null   int64 \n",
      " 40  sinopharm1            8048 non-null   int64 \n",
      " 41  sinopharm2            8048 non-null   int64 \n",
      " 42  sinopharm3            8048 non-null   int64 \n",
      " 43  sinopharm4            8048 non-null   int64 \n",
      " 44  cansino               8048 non-null   int64 \n",
      " 45  cansino3              8048 non-null   int64 \n",
      " 46  cansino4              8048 non-null   int64 \n",
      " 47  pending1              8048 non-null   int64 \n",
      " 48  pending2              8048 non-null   int64 \n",
      " 49  pending3              8048 non-null   int64 \n",
      " 50  pending4              8048 non-null   int64 \n",
      "dtypes: int64(49), object(2)\n",
      "memory usage: 3.1+ MB\n"
     ]
    }
   ],
   "source": [
    "cases_by_vaccination.info()"
   ]
  },
  {
   "cell_type": "markdown",
   "id": "64f6f0f6",
   "metadata": {
    "heading_collapsed": true,
    "hidden": true
   },
   "source": [
    "## Get Dataset Description"
   ]
  },
  {
   "cell_type": "code",
   "execution_count": 7,
   "id": "f20cb2ae",
   "metadata": {
    "hidden": true
   },
   "outputs": [
    {
     "data": {
      "text/html": [
       "<div>\n",
       "<style scoped>\n",
       "    .dataframe tbody tr th:only-of-type {\n",
       "        vertical-align: middle;\n",
       "    }\n",
       "\n",
       "    .dataframe tbody tr th {\n",
       "        vertical-align: top;\n",
       "    }\n",
       "\n",
       "    .dataframe thead th {\n",
       "        text-align: right;\n",
       "    }\n",
       "</style>\n",
       "<table border=\"1\" class=\"dataframe\">\n",
       "  <thead>\n",
       "    <tr style=\"text-align: right;\">\n",
       "      <th></th>\n",
       "      <th>deaths_new</th>\n",
       "      <th>deaths_bid</th>\n",
       "      <th>deaths_new_dod</th>\n",
       "      <th>deaths_bid_dod</th>\n",
       "      <th>deaths_unvax</th>\n",
       "      <th>deaths_pvax</th>\n",
       "      <th>deaths_fvax</th>\n",
       "      <th>deaths_boost</th>\n",
       "      <th>deaths_tat</th>\n",
       "    </tr>\n",
       "  </thead>\n",
       "  <tbody>\n",
       "    <tr>\n",
       "      <th>count</th>\n",
       "      <td>13552.000000</td>\n",
       "      <td>13552.000000</td>\n",
       "      <td>13552.000000</td>\n",
       "      <td>13552.000000</td>\n",
       "      <td>13552.000000</td>\n",
       "      <td>13552.000000</td>\n",
       "      <td>13552.000000</td>\n",
       "      <td>13552.000000</td>\n",
       "      <td>13552.000000</td>\n",
       "    </tr>\n",
       "    <tr>\n",
       "      <th>mean</th>\n",
       "      <td>2.642857</td>\n",
       "      <td>0.560434</td>\n",
       "      <td>2.642857</td>\n",
       "      <td>0.560434</td>\n",
       "      <td>1.633117</td>\n",
       "      <td>0.464212</td>\n",
       "      <td>0.484578</td>\n",
       "      <td>0.060950</td>\n",
       "      <td>1.563459</td>\n",
       "    </tr>\n",
       "    <tr>\n",
       "      <th>std</th>\n",
       "      <td>9.906430</td>\n",
       "      <td>2.884853</td>\n",
       "      <td>9.622862</td>\n",
       "      <td>2.458849</td>\n",
       "      <td>6.238619</td>\n",
       "      <td>2.939814</td>\n",
       "      <td>1.419390</td>\n",
       "      <td>0.374611</td>\n",
       "      <td>6.771547</td>\n",
       "    </tr>\n",
       "    <tr>\n",
       "      <th>min</th>\n",
       "      <td>0.000000</td>\n",
       "      <td>0.000000</td>\n",
       "      <td>0.000000</td>\n",
       "      <td>0.000000</td>\n",
       "      <td>0.000000</td>\n",
       "      <td>0.000000</td>\n",
       "      <td>0.000000</td>\n",
       "      <td>0.000000</td>\n",
       "      <td>0.000000</td>\n",
       "    </tr>\n",
       "    <tr>\n",
       "      <th>25%</th>\n",
       "      <td>0.000000</td>\n",
       "      <td>0.000000</td>\n",
       "      <td>0.000000</td>\n",
       "      <td>0.000000</td>\n",
       "      <td>0.000000</td>\n",
       "      <td>0.000000</td>\n",
       "      <td>0.000000</td>\n",
       "      <td>0.000000</td>\n",
       "      <td>0.000000</td>\n",
       "    </tr>\n",
       "    <tr>\n",
       "      <th>50%</th>\n",
       "      <td>0.000000</td>\n",
       "      <td>0.000000</td>\n",
       "      <td>0.000000</td>\n",
       "      <td>0.000000</td>\n",
       "      <td>0.000000</td>\n",
       "      <td>0.000000</td>\n",
       "      <td>0.000000</td>\n",
       "      <td>0.000000</td>\n",
       "      <td>0.000000</td>\n",
       "    </tr>\n",
       "    <tr>\n",
       "      <th>75%</th>\n",
       "      <td>2.000000</td>\n",
       "      <td>0.000000</td>\n",
       "      <td>2.000000</td>\n",
       "      <td>0.000000</td>\n",
       "      <td>1.000000</td>\n",
       "      <td>0.000000</td>\n",
       "      <td>0.000000</td>\n",
       "      <td>0.000000</td>\n",
       "      <td>2.000000</td>\n",
       "    </tr>\n",
       "    <tr>\n",
       "      <th>max</th>\n",
       "      <td>359.000000</td>\n",
       "      <td>84.000000</td>\n",
       "      <td>191.000000</td>\n",
       "      <td>63.000000</td>\n",
       "      <td>119.000000</td>\n",
       "      <td>68.000000</td>\n",
       "      <td>18.000000</td>\n",
       "      <td>9.000000</td>\n",
       "      <td>204.000000</td>\n",
       "    </tr>\n",
       "  </tbody>\n",
       "</table>\n",
       "</div>"
      ],
      "text/plain": [
       "         deaths_new    deaths_bid  deaths_new_dod  deaths_bid_dod  \\\n",
       "count  13552.000000  13552.000000    13552.000000    13552.000000   \n",
       "mean       2.642857      0.560434        2.642857        0.560434   \n",
       "std        9.906430      2.884853        9.622862        2.458849   \n",
       "min        0.000000      0.000000        0.000000        0.000000   \n",
       "25%        0.000000      0.000000        0.000000        0.000000   \n",
       "50%        0.000000      0.000000        0.000000        0.000000   \n",
       "75%        2.000000      0.000000        2.000000        0.000000   \n",
       "max      359.000000     84.000000      191.000000       63.000000   \n",
       "\n",
       "       deaths_unvax   deaths_pvax   deaths_fvax  deaths_boost    deaths_tat  \n",
       "count  13552.000000  13552.000000  13552.000000  13552.000000  13552.000000  \n",
       "mean       1.633117      0.464212      0.484578      0.060950      1.563459  \n",
       "std        6.238619      2.939814      1.419390      0.374611      6.771547  \n",
       "min        0.000000      0.000000      0.000000      0.000000      0.000000  \n",
       "25%        0.000000      0.000000      0.000000      0.000000      0.000000  \n",
       "50%        0.000000      0.000000      0.000000      0.000000      0.000000  \n",
       "75%        1.000000      0.000000      0.000000      0.000000      2.000000  \n",
       "max      119.000000     68.000000     18.000000      9.000000    204.000000  "
      ]
     },
     "execution_count": 7,
     "metadata": {},
     "output_type": "execute_result"
    }
   ],
   "source": [
    "cases_by_death.describe()"
   ]
  },
  {
   "cell_type": "code",
   "execution_count": 8,
   "id": "db6b9ca5",
   "metadata": {
    "hidden": true
   },
   "outputs": [
    {
     "data": {
      "text/html": [
       "<div>\n",
       "<style scoped>\n",
       "    .dataframe tbody tr th:only-of-type {\n",
       "        vertical-align: middle;\n",
       "    }\n",
       "\n",
       "    .dataframe tbody tr th {\n",
       "        vertical-align: top;\n",
       "    }\n",
       "\n",
       "    .dataframe thead th {\n",
       "        text-align: right;\n",
       "    }\n",
       "</style>\n",
       "<table border=\"1\" class=\"dataframe\">\n",
       "  <thead>\n",
       "    <tr style=\"text-align: right;\">\n",
       "      <th></th>\n",
       "      <th>daily_partial</th>\n",
       "      <th>daily_full</th>\n",
       "      <th>daily_booster</th>\n",
       "      <th>daily_booster2</th>\n",
       "      <th>daily</th>\n",
       "      <th>daily_partial_adol</th>\n",
       "      <th>daily_full_adol</th>\n",
       "      <th>daily_booster_adol</th>\n",
       "      <th>daily_booster2_adol</th>\n",
       "      <th>daily_partial_child</th>\n",
       "      <th>...</th>\n",
       "      <th>sinopharm2</th>\n",
       "      <th>sinopharm3</th>\n",
       "      <th>sinopharm4</th>\n",
       "      <th>cansino</th>\n",
       "      <th>cansino3</th>\n",
       "      <th>cansino4</th>\n",
       "      <th>pending1</th>\n",
       "      <th>pending2</th>\n",
       "      <th>pending3</th>\n",
       "      <th>pending4</th>\n",
       "    </tr>\n",
       "  </thead>\n",
       "  <tbody>\n",
       "    <tr>\n",
       "      <th>count</th>\n",
       "      <td>8048.000000</td>\n",
       "      <td>8048.000000</td>\n",
       "      <td>8048.000000</td>\n",
       "      <td>8048.000000</td>\n",
       "      <td>8048.000000</td>\n",
       "      <td>8048.000000</td>\n",
       "      <td>8048.000000</td>\n",
       "      <td>8048.000000</td>\n",
       "      <td>8048.000000</td>\n",
       "      <td>8048.000000</td>\n",
       "      <td>...</td>\n",
       "      <td>8048.000000</td>\n",
       "      <td>8048.000000</td>\n",
       "      <td>8048.000000</td>\n",
       "      <td>8048.000000</td>\n",
       "      <td>8048.000000</td>\n",
       "      <td>8048.000000</td>\n",
       "      <td>8048.000000</td>\n",
       "      <td>8048.000000</td>\n",
       "      <td>8048.000000</td>\n",
       "      <td>8048.000000</td>\n",
       "    </tr>\n",
       "    <tr>\n",
       "      <th>mean</th>\n",
       "      <td>3458.715333</td>\n",
       "      <td>3397.539886</td>\n",
       "      <td>2007.382083</td>\n",
       "      <td>20.780567</td>\n",
       "      <td>8884.417868</td>\n",
       "      <td>369.585736</td>\n",
       "      <td>359.440358</td>\n",
       "      <td>5.505094</td>\n",
       "      <td>0.022614</td>\n",
       "      <td>219.501615</td>\n",
       "      <td>...</td>\n",
       "      <td>1.976640</td>\n",
       "      <td>1.201541</td>\n",
       "      <td>0.007952</td>\n",
       "      <td>26.775969</td>\n",
       "      <td>0.952286</td>\n",
       "      <td>0.010562</td>\n",
       "      <td>1.337972</td>\n",
       "      <td>0.932530</td>\n",
       "      <td>0.366178</td>\n",
       "      <td>0.119906</td>\n",
       "    </tr>\n",
       "    <tr>\n",
       "      <th>std</th>\n",
       "      <td>8429.061159</td>\n",
       "      <td>8294.149594</td>\n",
       "      <td>5881.853364</td>\n",
       "      <td>85.085643</td>\n",
       "      <td>15324.267245</td>\n",
       "      <td>1910.848476</td>\n",
       "      <td>1859.215553</td>\n",
       "      <td>16.518623</td>\n",
       "      <td>0.181773</td>\n",
       "      <td>913.519567</td>\n",
       "      <td>...</td>\n",
       "      <td>9.770459</td>\n",
       "      <td>9.539458</td>\n",
       "      <td>0.110069</td>\n",
       "      <td>252.796947</td>\n",
       "      <td>12.506331</td>\n",
       "      <td>0.260984</td>\n",
       "      <td>13.792236</td>\n",
       "      <td>8.329089</td>\n",
       "      <td>2.987482</td>\n",
       "      <td>6.036994</td>\n",
       "    </tr>\n",
       "    <tr>\n",
       "      <th>min</th>\n",
       "      <td>0.000000</td>\n",
       "      <td>0.000000</td>\n",
       "      <td>0.000000</td>\n",
       "      <td>0.000000</td>\n",
       "      <td>0.000000</td>\n",
       "      <td>0.000000</td>\n",
       "      <td>0.000000</td>\n",
       "      <td>0.000000</td>\n",
       "      <td>0.000000</td>\n",
       "      <td>0.000000</td>\n",
       "      <td>...</td>\n",
       "      <td>0.000000</td>\n",
       "      <td>0.000000</td>\n",
       "      <td>0.000000</td>\n",
       "      <td>0.000000</td>\n",
       "      <td>0.000000</td>\n",
       "      <td>0.000000</td>\n",
       "      <td>0.000000</td>\n",
       "      <td>-1.000000</td>\n",
       "      <td>0.000000</td>\n",
       "      <td>0.000000</td>\n",
       "    </tr>\n",
       "    <tr>\n",
       "      <th>25%</th>\n",
       "      <td>71.000000</td>\n",
       "      <td>55.000000</td>\n",
       "      <td>0.000000</td>\n",
       "      <td>0.000000</td>\n",
       "      <td>712.000000</td>\n",
       "      <td>0.000000</td>\n",
       "      <td>0.000000</td>\n",
       "      <td>0.000000</td>\n",
       "      <td>0.000000</td>\n",
       "      <td>0.000000</td>\n",
       "      <td>...</td>\n",
       "      <td>0.000000</td>\n",
       "      <td>0.000000</td>\n",
       "      <td>0.000000</td>\n",
       "      <td>0.000000</td>\n",
       "      <td>0.000000</td>\n",
       "      <td>0.000000</td>\n",
       "      <td>0.000000</td>\n",
       "      <td>0.000000</td>\n",
       "      <td>0.000000</td>\n",
       "      <td>0.000000</td>\n",
       "    </tr>\n",
       "    <tr>\n",
       "      <th>50%</th>\n",
       "      <td>458.000000</td>\n",
       "      <td>386.000000</td>\n",
       "      <td>12.000000</td>\n",
       "      <td>0.000000</td>\n",
       "      <td>2867.500000</td>\n",
       "      <td>12.000000</td>\n",
       "      <td>12.000000</td>\n",
       "      <td>0.000000</td>\n",
       "      <td>0.000000</td>\n",
       "      <td>0.000000</td>\n",
       "      <td>...</td>\n",
       "      <td>0.000000</td>\n",
       "      <td>0.000000</td>\n",
       "      <td>0.000000</td>\n",
       "      <td>0.000000</td>\n",
       "      <td>0.000000</td>\n",
       "      <td>0.000000</td>\n",
       "      <td>0.000000</td>\n",
       "      <td>0.000000</td>\n",
       "      <td>0.000000</td>\n",
       "      <td>0.000000</td>\n",
       "    </tr>\n",
       "    <tr>\n",
       "      <th>75%</th>\n",
       "      <td>2431.000000</td>\n",
       "      <td>2329.750000</td>\n",
       "      <td>876.750000</td>\n",
       "      <td>10.000000</td>\n",
       "      <td>10297.750000</td>\n",
       "      <td>76.000000</td>\n",
       "      <td>69.000000</td>\n",
       "      <td>3.000000</td>\n",
       "      <td>0.000000</td>\n",
       "      <td>21.000000</td>\n",
       "      <td>...</td>\n",
       "      <td>0.000000</td>\n",
       "      <td>0.000000</td>\n",
       "      <td>0.000000</td>\n",
       "      <td>0.000000</td>\n",
       "      <td>0.000000</td>\n",
       "      <td>0.000000</td>\n",
       "      <td>0.000000</td>\n",
       "      <td>0.000000</td>\n",
       "      <td>0.000000</td>\n",
       "      <td>0.000000</td>\n",
       "    </tr>\n",
       "    <tr>\n",
       "      <th>max</th>\n",
       "      <td>110484.000000</td>\n",
       "      <td>110911.000000</td>\n",
       "      <td>74326.000000</td>\n",
       "      <td>1887.000000</td>\n",
       "      <td>176403.000000</td>\n",
       "      <td>29288.000000</td>\n",
       "      <td>26731.000000</td>\n",
       "      <td>246.000000</td>\n",
       "      <td>4.000000</td>\n",
       "      <td>19902.000000</td>\n",
       "      <td>...</td>\n",
       "      <td>225.000000</td>\n",
       "      <td>255.000000</td>\n",
       "      <td>3.000000</td>\n",
       "      <td>7705.000000</td>\n",
       "      <td>441.000000</td>\n",
       "      <td>19.000000</td>\n",
       "      <td>462.000000</td>\n",
       "      <td>374.000000</td>\n",
       "      <td>116.000000</td>\n",
       "      <td>494.000000</td>\n",
       "    </tr>\n",
       "  </tbody>\n",
       "</table>\n",
       "<p>8 rows × 49 columns</p>\n",
       "</div>"
      ],
      "text/plain": [
       "       daily_partial     daily_full  daily_booster  daily_booster2  \\\n",
       "count    8048.000000    8048.000000    8048.000000     8048.000000   \n",
       "mean     3458.715333    3397.539886    2007.382083       20.780567   \n",
       "std      8429.061159    8294.149594    5881.853364       85.085643   \n",
       "min         0.000000       0.000000       0.000000        0.000000   \n",
       "25%        71.000000      55.000000       0.000000        0.000000   \n",
       "50%       458.000000     386.000000      12.000000        0.000000   \n",
       "75%      2431.000000    2329.750000     876.750000       10.000000   \n",
       "max    110484.000000  110911.000000   74326.000000     1887.000000   \n",
       "\n",
       "               daily  daily_partial_adol  daily_full_adol  daily_booster_adol  \\\n",
       "count    8048.000000         8048.000000      8048.000000         8048.000000   \n",
       "mean     8884.417868          369.585736       359.440358            5.505094   \n",
       "std     15324.267245         1910.848476      1859.215553           16.518623   \n",
       "min         0.000000            0.000000         0.000000            0.000000   \n",
       "25%       712.000000            0.000000         0.000000            0.000000   \n",
       "50%      2867.500000           12.000000        12.000000            0.000000   \n",
       "75%     10297.750000           76.000000        69.000000            3.000000   \n",
       "max    176403.000000        29288.000000     26731.000000          246.000000   \n",
       "\n",
       "       daily_booster2_adol  daily_partial_child  ...   sinopharm2  \\\n",
       "count          8048.000000          8048.000000  ...  8048.000000   \n",
       "mean              0.022614           219.501615  ...     1.976640   \n",
       "std               0.181773           913.519567  ...     9.770459   \n",
       "min               0.000000             0.000000  ...     0.000000   \n",
       "25%               0.000000             0.000000  ...     0.000000   \n",
       "50%               0.000000             0.000000  ...     0.000000   \n",
       "75%               0.000000            21.000000  ...     0.000000   \n",
       "max               4.000000         19902.000000  ...   225.000000   \n",
       "\n",
       "        sinopharm3   sinopharm4      cansino     cansino3     cansino4  \\\n",
       "count  8048.000000  8048.000000  8048.000000  8048.000000  8048.000000   \n",
       "mean      1.201541     0.007952    26.775969     0.952286     0.010562   \n",
       "std       9.539458     0.110069   252.796947    12.506331     0.260984   \n",
       "min       0.000000     0.000000     0.000000     0.000000     0.000000   \n",
       "25%       0.000000     0.000000     0.000000     0.000000     0.000000   \n",
       "50%       0.000000     0.000000     0.000000     0.000000     0.000000   \n",
       "75%       0.000000     0.000000     0.000000     0.000000     0.000000   \n",
       "max     255.000000     3.000000  7705.000000   441.000000    19.000000   \n",
       "\n",
       "          pending1     pending2     pending3     pending4  \n",
       "count  8048.000000  8048.000000  8048.000000  8048.000000  \n",
       "mean      1.337972     0.932530     0.366178     0.119906  \n",
       "std      13.792236     8.329089     2.987482     6.036994  \n",
       "min       0.000000    -1.000000     0.000000     0.000000  \n",
       "25%       0.000000     0.000000     0.000000     0.000000  \n",
       "50%       0.000000     0.000000     0.000000     0.000000  \n",
       "75%       0.000000     0.000000     0.000000     0.000000  \n",
       "max     462.000000   374.000000   116.000000   494.000000  \n",
       "\n",
       "[8 rows x 49 columns]"
      ]
     },
     "execution_count": 8,
     "metadata": {},
     "output_type": "execute_result"
    }
   ],
   "source": [
    "cases_by_vaccination.describe()"
   ]
  },
  {
   "cell_type": "markdown",
   "id": "b9229480",
   "metadata": {
    "heading_collapsed": true,
    "hidden": true
   },
   "source": [
    "## Get Dataset Size"
   ]
  },
  {
   "cell_type": "code",
   "execution_count": 9,
   "id": "d92cfd8c",
   "metadata": {
    "hidden": true
   },
   "outputs": [
    {
     "data": {
      "text/plain": [
       "149072"
      ]
     },
     "execution_count": 9,
     "metadata": {},
     "output_type": "execute_result"
    }
   ],
   "source": [
    "cases_by_death.size"
   ]
  },
  {
   "cell_type": "code",
   "execution_count": 10,
   "id": "4dcef2e5",
   "metadata": {
    "hidden": true
   },
   "outputs": [
    {
     "data": {
      "text/plain": [
       "410448"
      ]
     },
     "execution_count": 10,
     "metadata": {},
     "output_type": "execute_result"
    }
   ],
   "source": [
    "cases_by_vaccination.size"
   ]
  },
  {
   "cell_type": "markdown",
   "id": "3d4874fd",
   "metadata": {
    "heading_collapsed": true,
    "hidden": true
   },
   "source": [
    "## Get Dataset Shape"
   ]
  },
  {
   "cell_type": "code",
   "execution_count": 11,
   "id": "76b8c75e",
   "metadata": {
    "hidden": true
   },
   "outputs": [
    {
     "data": {
      "text/plain": [
       "(13552, 11)"
      ]
     },
     "execution_count": 11,
     "metadata": {},
     "output_type": "execute_result"
    }
   ],
   "source": [
    "cases_by_death.shape"
   ]
  },
  {
   "cell_type": "code",
   "execution_count": 12,
   "id": "9fe23bd5",
   "metadata": {
    "hidden": true
   },
   "outputs": [
    {
     "data": {
      "text/plain": [
       "(8048, 51)"
      ]
     },
     "execution_count": 12,
     "metadata": {},
     "output_type": "execute_result"
    }
   ],
   "source": [
    "cases_by_vaccination.shape"
   ]
  },
  {
   "cell_type": "markdown",
   "id": "8ec86d81",
   "metadata": {
    "heading_collapsed": true,
    "hidden": true
   },
   "source": [
    "## Find Duplicates in the Dataset"
   ]
  },
  {
   "cell_type": "code",
   "execution_count": 13,
   "id": "da75f6bb",
   "metadata": {
    "hidden": true
   },
   "outputs": [
    {
     "data": {
      "text/plain": [
       "0"
      ]
     },
     "execution_count": 13,
     "metadata": {},
     "output_type": "execute_result"
    }
   ],
   "source": [
    "cases_by_death.duplicated().sum()"
   ]
  },
  {
   "cell_type": "code",
   "execution_count": 14,
   "id": "23a90c5b",
   "metadata": {
    "hidden": true
   },
   "outputs": [
    {
     "data": {
      "text/plain": [
       "0"
      ]
     },
     "execution_count": 14,
     "metadata": {},
     "output_type": "execute_result"
    }
   ],
   "source": [
    "cases_by_vaccination.duplicated().sum()"
   ]
  },
  {
   "cell_type": "markdown",
   "id": "a4530e2b",
   "metadata": {
    "heading_collapsed": true,
    "hidden": true
   },
   "source": [
    "## Find Null Values in the Dataset"
   ]
  },
  {
   "cell_type": "code",
   "execution_count": 15,
   "id": "d7e2a7d5",
   "metadata": {
    "hidden": true
   },
   "outputs": [
    {
     "data": {
      "text/plain": [
       "date              0\n",
       "state             0\n",
       "deaths_new        0\n",
       "deaths_bid        0\n",
       "deaths_new_dod    0\n",
       "deaths_bid_dod    0\n",
       "deaths_unvax      0\n",
       "deaths_pvax       0\n",
       "deaths_fvax       0\n",
       "deaths_boost      0\n",
       "deaths_tat        0\n",
       "dtype: int64"
      ]
     },
     "execution_count": 15,
     "metadata": {},
     "output_type": "execute_result"
    }
   ],
   "source": [
    "cases_by_death.isnull().sum()"
   ]
  },
  {
   "cell_type": "code",
   "execution_count": 16,
   "id": "11e8c820",
   "metadata": {
    "hidden": true
   },
   "outputs": [
    {
     "data": {
      "text/plain": [
       "date                    0\n",
       "state                   0\n",
       "daily_partial           0\n",
       "daily_full              0\n",
       "daily_booster           0\n",
       "daily_booster2          0\n",
       "daily                   0\n",
       "daily_partial_adol      0\n",
       "daily_full_adol         0\n",
       "daily_booster_adol      0\n",
       "daily_booster2_adol     0\n",
       "daily_partial_child     0\n",
       "daily_full_child        0\n",
       "daily_booster_child     0\n",
       "daily_booster2_child    0\n",
       "cumul_partial           0\n",
       "cumul_full              0\n",
       "cumul_booster           0\n",
       "cumul_booster2          0\n",
       "cumul                   0\n",
       "cumul_partial_adol      0\n",
       "cumul_full_adol         0\n",
       "cumul_booster_adol      0\n",
       "cumul_booster2_adol     0\n",
       "cumul_partial_child     0\n",
       "cumul_full_child        0\n",
       "cumul_booster_child     0\n",
       "cumul_booster2_child    0\n",
       "pfizer1                 0\n",
       "pfizer2                 0\n",
       "pfizer3                 0\n",
       "pfizer4                 0\n",
       "sinovac1                0\n",
       "sinovac2                0\n",
       "sinovac3                0\n",
       "sinovac4                0\n",
       "astra1                  0\n",
       "astra2                  0\n",
       "astra3                  0\n",
       "astra4                  0\n",
       "sinopharm1              0\n",
       "sinopharm2              0\n",
       "sinopharm3              0\n",
       "sinopharm4              0\n",
       "cansino                 0\n",
       "cansino3                0\n",
       "cansino4                0\n",
       "pending1                0\n",
       "pending2                0\n",
       "pending3                0\n",
       "pending4                0\n",
       "dtype: int64"
      ]
     },
     "execution_count": 16,
     "metadata": {},
     "output_type": "execute_result"
    }
   ],
   "source": [
    "cases_by_vaccination.isnull().sum()"
   ]
  },
  {
   "cell_type": "markdown",
   "id": "d1c584fe",
   "metadata": {
    "heading_collapsed": true
   },
   "source": [
    "# Data Preparation "
   ]
  },
  {
   "cell_type": "markdown",
   "id": "123eb256",
   "metadata": {
    "heading_collapsed": true,
    "hidden": true
   },
   "source": [
    "## Dropping Unrelated Columns "
   ]
  },
  {
   "cell_type": "code",
   "execution_count": 17,
   "id": "df9424ad",
   "metadata": {
    "hidden": true
   },
   "outputs": [],
   "source": [
    "cases_by_death = cases_by_death[['date','state','deaths_new']]"
   ]
  },
  {
   "cell_type": "code",
   "execution_count": 18,
   "id": "db718115",
   "metadata": {
    "hidden": true
   },
   "outputs": [],
   "source": [
    "cases_by_vaccination = cases_by_vaccination[['date','state','daily']]"
   ]
  },
  {
   "cell_type": "markdown",
   "id": "090a20ec",
   "metadata": {
    "heading_collapsed": true,
    "hidden": true
   },
   "source": [
    "## Converting Date Format for the Dataset"
   ]
  },
  {
   "cell_type": "code",
   "execution_count": 19,
   "id": "5883815c",
   "metadata": {
    "hidden": true,
    "scrolled": true
   },
   "outputs": [],
   "source": [
    "cases_by_death['date'] = pd.to_datetime(cases_by_death['date']).dt.to_period('M')"
   ]
  },
  {
   "cell_type": "code",
   "execution_count": 20,
   "id": "29b6a013",
   "metadata": {
    "hidden": true
   },
   "outputs": [],
   "source": [
    "cases_by_vaccination['date'] = pd.to_datetime(cases_by_vaccination['date']).dt.to_period('M')"
   ]
  },
  {
   "cell_type": "markdown",
   "id": "61bbfd7d",
   "metadata": {
    "heading_collapsed": true,
    "hidden": true
   },
   "source": [
    "## Sum up Specific Cases Using Date and State"
   ]
  },
  {
   "cell_type": "code",
   "execution_count": 21,
   "id": "cfc5c4fa",
   "metadata": {
    "hidden": true
   },
   "outputs": [],
   "source": [
    "cases_by_death = cases_by_death.groupby(['date','state']).sum().reset_index()"
   ]
  },
  {
   "cell_type": "code",
   "execution_count": 22,
   "id": "1ab87493",
   "metadata": {
    "hidden": true
   },
   "outputs": [],
   "source": [
    "cases_by_vaccination = cases_by_vaccination.groupby(['date','state']).sum().reset_index()"
   ]
  },
  {
   "cell_type": "code",
   "execution_count": 26,
   "id": "58cad407",
   "metadata": {
    "hidden": true
   },
   "outputs": [
    {
     "data": {
      "text/html": [
       "<div>\n",
       "<style scoped>\n",
       "    .dataframe tbody tr th:only-of-type {\n",
       "        vertical-align: middle;\n",
       "    }\n",
       "\n",
       "    .dataframe tbody tr th {\n",
       "        vertical-align: top;\n",
       "    }\n",
       "\n",
       "    .dataframe thead th {\n",
       "        text-align: right;\n",
       "    }\n",
       "</style>\n",
       "<table border=\"1\" class=\"dataframe\">\n",
       "  <thead>\n",
       "    <tr style=\"text-align: right;\">\n",
       "      <th></th>\n",
       "      <th>date</th>\n",
       "      <th>state</th>\n",
       "      <th>daily</th>\n",
       "    </tr>\n",
       "  </thead>\n",
       "  <tbody>\n",
       "    <tr>\n",
       "      <th>0</th>\n",
       "      <td>2021-02</td>\n",
       "      <td>Johor</td>\n",
       "      <td>913</td>\n",
       "    </tr>\n",
       "    <tr>\n",
       "      <th>1</th>\n",
       "      <td>2021-02</td>\n",
       "      <td>Kedah</td>\n",
       "      <td>829</td>\n",
       "    </tr>\n",
       "    <tr>\n",
       "      <th>2</th>\n",
       "      <td>2021-02</td>\n",
       "      <td>Kelantan</td>\n",
       "      <td>162</td>\n",
       "    </tr>\n",
       "    <tr>\n",
       "      <th>3</th>\n",
       "      <td>2021-02</td>\n",
       "      <td>Melaka</td>\n",
       "      <td>275</td>\n",
       "    </tr>\n",
       "    <tr>\n",
       "      <th>4</th>\n",
       "      <td>2021-02</td>\n",
       "      <td>Negeri Sembilan</td>\n",
       "      <td>1</td>\n",
       "    </tr>\n",
       "    <tr>\n",
       "      <th>...</th>\n",
       "      <td>...</td>\n",
       "      <td>...</td>\n",
       "      <td>...</td>\n",
       "    </tr>\n",
       "    <tr>\n",
       "      <th>283</th>\n",
       "      <td>2022-07</td>\n",
       "      <td>Selangor</td>\n",
       "      <td>27365</td>\n",
       "    </tr>\n",
       "    <tr>\n",
       "      <th>284</th>\n",
       "      <td>2022-07</td>\n",
       "      <td>Terengganu</td>\n",
       "      <td>2641</td>\n",
       "    </tr>\n",
       "    <tr>\n",
       "      <th>285</th>\n",
       "      <td>2022-07</td>\n",
       "      <td>W.P. Kuala Lumpur</td>\n",
       "      <td>16592</td>\n",
       "    </tr>\n",
       "    <tr>\n",
       "      <th>286</th>\n",
       "      <td>2022-07</td>\n",
       "      <td>W.P. Labuan</td>\n",
       "      <td>279</td>\n",
       "    </tr>\n",
       "    <tr>\n",
       "      <th>287</th>\n",
       "      <td>2022-07</td>\n",
       "      <td>W.P. Putrajaya</td>\n",
       "      <td>849</td>\n",
       "    </tr>\n",
       "  </tbody>\n",
       "</table>\n",
       "<p>288 rows × 3 columns</p>\n",
       "</div>"
      ],
      "text/plain": [
       "        date              state  daily\n",
       "0    2021-02              Johor    913\n",
       "1    2021-02              Kedah    829\n",
       "2    2021-02           Kelantan    162\n",
       "3    2021-02             Melaka    275\n",
       "4    2021-02    Negeri Sembilan      1\n",
       "..       ...                ...    ...\n",
       "283  2022-07           Selangor  27365\n",
       "284  2022-07         Terengganu   2641\n",
       "285  2022-07  W.P. Kuala Lumpur  16592\n",
       "286  2022-07        W.P. Labuan    279\n",
       "287  2022-07     W.P. Putrajaya    849\n",
       "\n",
       "[288 rows x 3 columns]"
      ]
     },
     "execution_count": 26,
     "metadata": {},
     "output_type": "execute_result"
    }
   ],
   "source": [
    "cases_by_vaccination"
   ]
  },
  {
   "cell_type": "markdown",
   "id": "cd331946",
   "metadata": {
    "heading_collapsed": true,
    "hidden": true
   },
   "source": [
    "## Combine the Death and Vaccination Dataset"
   ]
  },
  {
   "cell_type": "code",
   "execution_count": 23,
   "id": "c4333794",
   "metadata": {
    "hidden": true
   },
   "outputs": [],
   "source": [
    "final_dataset = pd.merge(cases_by_death, cases_by_vaccination, on = ['date','state'],how='inner')"
   ]
  },
  {
   "cell_type": "markdown",
   "id": "19419ae8",
   "metadata": {
    "heading_collapsed": true,
    "hidden": true
   },
   "source": [
    "## Rename the Columns"
   ]
  },
  {
   "cell_type": "code",
   "execution_count": 29,
   "id": "c65e952c",
   "metadata": {
    "hidden": true
   },
   "outputs": [],
   "source": [
    "final_dataset.columns = ['Date', 'State', 'Total Death', 'Total Vaccination']"
   ]
  },
  {
   "cell_type": "markdown",
   "id": "b52e0378",
   "metadata": {
    "heading_collapsed": true,
    "hidden": true
   },
   "source": [
    "## View the New Dataset"
   ]
  },
  {
   "cell_type": "code",
   "execution_count": 32,
   "id": "82f0246f",
   "metadata": {
    "hidden": true
   },
   "outputs": [
    {
     "data": {
      "text/html": [
       "<div>\n",
       "<style scoped>\n",
       "    .dataframe tbody tr th:only-of-type {\n",
       "        vertical-align: middle;\n",
       "    }\n",
       "\n",
       "    .dataframe tbody tr th {\n",
       "        vertical-align: top;\n",
       "    }\n",
       "\n",
       "    .dataframe thead th {\n",
       "        text-align: right;\n",
       "    }\n",
       "</style>\n",
       "<table border=\"1\" class=\"dataframe\">\n",
       "  <thead>\n",
       "    <tr style=\"text-align: right;\">\n",
       "      <th></th>\n",
       "      <th>Date</th>\n",
       "      <th>State</th>\n",
       "      <th>Total Death</th>\n",
       "      <th>Total Vaccination</th>\n",
       "    </tr>\n",
       "  </thead>\n",
       "  <tbody>\n",
       "    <tr>\n",
       "      <th>0</th>\n",
       "      <td>2021-02</td>\n",
       "      <td>Johor</td>\n",
       "      <td>29</td>\n",
       "      <td>913</td>\n",
       "    </tr>\n",
       "    <tr>\n",
       "      <th>1</th>\n",
       "      <td>2021-02</td>\n",
       "      <td>Kedah</td>\n",
       "      <td>5</td>\n",
       "      <td>829</td>\n",
       "    </tr>\n",
       "    <tr>\n",
       "      <th>2</th>\n",
       "      <td>2021-02</td>\n",
       "      <td>Kelantan</td>\n",
       "      <td>8</td>\n",
       "      <td>162</td>\n",
       "    </tr>\n",
       "    <tr>\n",
       "      <th>3</th>\n",
       "      <td>2021-02</td>\n",
       "      <td>Melaka</td>\n",
       "      <td>9</td>\n",
       "      <td>275</td>\n",
       "    </tr>\n",
       "    <tr>\n",
       "      <th>4</th>\n",
       "      <td>2021-02</td>\n",
       "      <td>Negeri Sembilan</td>\n",
       "      <td>10</td>\n",
       "      <td>1</td>\n",
       "    </tr>\n",
       "  </tbody>\n",
       "</table>\n",
       "</div>"
      ],
      "text/plain": [
       "      Date            State  Total Death  Total Vaccination\n",
       "0  2021-02            Johor           29                913\n",
       "1  2021-02            Kedah            5                829\n",
       "2  2021-02         Kelantan            8                162\n",
       "3  2021-02           Melaka            9                275\n",
       "4  2021-02  Negeri Sembilan           10                  1"
      ]
     },
     "execution_count": 32,
     "metadata": {},
     "output_type": "execute_result"
    }
   ],
   "source": [
    "final_dataset.head()"
   ]
  },
  {
   "cell_type": "markdown",
   "id": "8eb35fed",
   "metadata": {
    "heading_collapsed": true
   },
   "source": [
    "# Find Correlation Between Data"
   ]
  },
  {
   "cell_type": "code",
   "execution_count": 33,
   "id": "1f86e3ca",
   "metadata": {
    "hidden": true
   },
   "outputs": [
    {
     "data": {
      "text/plain": [
       "<AxesSubplot:>"
      ]
     },
     "execution_count": 33,
     "metadata": {},
     "output_type": "execute_result"
    },
    {
     "data": {
      "image/png": "[encoded data removed]",
      "text/plain": [
       "<Figure size 864x864 with 2 Axes>"
      ]
     },
     "metadata": {
      "needs_background": "light"
     },
     "output_type": "display_data"
    }
   ],
   "source": [
    "death_correlation = final_dataset.corr() #find correlation \n",
    "plt.subplots(figsize=(12,12)) #determine size of chart\n",
    "sns.heatmap(death_correlation,annot=True, square=True) # plot heatmap "
   ]
  },
  {
   "cell_type": "markdown",
   "id": "9d346a03",
   "metadata": {},
   "source": [
    "# Export the Dataset as CSV"
   ]
  },
  {
   "cell_type": "code",
   "execution_count": 35,
   "id": "106c76b0",
   "metadata": {},
   "outputs": [],
   "source": [
    "final_dataset.to_csv('death_to_vacc_dataset.csv', index = False)"
   ]
  }
 ],
 "metadata": {
  "kernelspec": {
   "display_name": "Python 3 (ipykernel)",
   "language": "python",
   "name": "python3"
  },
  "language_info": {
   "codemirror_mode": {
    "name": "ipython",
    "version": 3
   },
   "file_extension": ".py",
   "mimetype": "text/x-python",
   "name": "python",
   "nbconvert_exporter": "python",
   "pygments_lexer": "ipython3",
   "version": "3.9.7"
  },
  "toc": {
   "base_numbering": 1,
   "nav_menu": {},
   "number_sections": true,
   "sideBar": true,
   "skip_h1_title": false,
   "title_cell": "Table of Contents",
   "title_sidebar": "Contents",
   "toc_cell": false,
   "toc_position": {},
   "toc_section_display": true,
   "toc_window_display": false
  },
  "varInspector": {
   "cols": {
    "lenName": 16,
    "lenType": 16,
    "lenVar": 40
   },
   "kernels_config": {
    "python": {
     "delete_cmd_postfix": "",
     "delete_cmd_prefix": "del ",
     "library": "var_list.py",
     "varRefreshCmd": "print(var_dic_list())"
    },
    "r": {
     "delete_cmd_postfix": ") ",
     "delete_cmd_prefix": "rm(",
     "library": "var_list.r",
     "varRefreshCmd": "cat(var_dic_list()) "
    }
   },
   "types_to_exclude": [
    "module",
    "function",
    "builtin_function_or_method",
    "instance",
    "_Feature"
   ],
   "window_display": false
  }
 },
 "nbformat": 4,
 "nbformat_minor": 5
}
